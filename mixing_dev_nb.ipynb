{
 "cells": [
  {
   "cell_type": "code",
   "execution_count": 3,
   "id": "848c8642",
   "metadata": {},
   "outputs": [],
   "source": [
    "import pandas as pd\n",
    "import numpy as np"
   ]
  },
  {
   "cell_type": "code",
   "execution_count": 4,
   "id": "29cf7835",
   "metadata": {},
   "outputs": [],
   "source": [
    "df_materials = pd.read_csv(\"properties/materials.csv\")"
   ]
  },
  {
   "cell_type": "code",
   "execution_count": 7,
   "id": "dd2aa7e6",
   "metadata": {},
   "outputs": [
    {
     "data": {
      "text/plain": [
       "[('dynamic viscosity', 'mPa.s'),\n",
       " ('dynamic viscosity', 'mPa.s'),\n",
       " ('dynamic viscosity', 'mPa.s'),\n",
       " ('dynamic viscosity', 'mPa.s'),\n",
       " ('density', 'kg/m3'),\n",
       " ('density', 'kg/m3'),\n",
       " ('density', 'kg/m3'),\n",
       " ('density', 'kg/m3'),\n",
       " ('surface tension', 'N/m'),\n",
       " ('surface tension', 'N/m'),\n",
       " ('surface tension', 'N/m'),\n",
       " ('surface tension', 'N/m'),\n",
       " ('density', 'kg/m3'),\n",
       " (nan, nan)]"
      ]
     },
     "execution_count": 7,
     "metadata": {},
     "output_type": "execute_result"
    }
   ],
   "source": [
    "list(zip(df_materials[\"property\"], df_materials[\"units\"]))"
   ]
  },
  {
   "cell_type": "code",
   "execution_count": 33,
   "id": "b082d31a",
   "metadata": {},
   "outputs": [
    {
     "data": {
      "application/vnd.microsoft.datawrangler.viewer.v0+json": {
       "columns": [
        {
         "name": "index",
         "rawType": "int64",
         "type": "integer"
        },
        {
         "name": "material",
         "rawType": "object",
         "type": "string"
        },
        {
         "name": "phase",
         "rawType": "object",
         "type": "string"
        },
        {
         "name": "temperature",
         "rawType": "float64",
         "type": "float"
        },
        {
         "name": "property",
         "rawType": "object",
         "type": "string"
        },
        {
         "name": "value",
         "rawType": "float64",
         "type": "float"
        },
        {
         "name": "units",
         "rawType": "object",
         "type": "string"
        },
        {
         "name": "source",
         "rawType": "float64",
         "type": "float"
        }
       ],
       "ref": "bab26a13-cfbf-4ec5-b8c0-f330c69a028e",
       "rows": [
        [
         "0",
         "MeOH",
         "liquid",
         "25.0",
         "dynamic viscosity",
         "0.538",
         "mPa.s",
         null
        ],
        [
         "1",
         "H2O",
         "liquid",
         "25.0",
         "dynamic viscosity",
         "0.913",
         "mPa.s",
         null
        ],
        [
         "2",
         "Sulfolane",
         "liquid",
         "25.0",
         "dynamic viscosity",
         "10.07",
         "mPa.s",
         null
        ],
        [
         "3",
         "THF",
         "liquid",
         "25.0",
         "dynamic viscosity",
         "0.456",
         "mPa.s",
         null
        ],
        [
         "4",
         "THF",
         "liquid",
         "25.0",
         "density",
         "879.9600323",
         "kg/m3",
         null
        ]
       ],
       "shape": {
        "columns": 7,
        "rows": 5
       }
      },
      "text/html": [
       "<div>\n",
       "<style scoped>\n",
       "    .dataframe tbody tr th:only-of-type {\n",
       "        vertical-align: middle;\n",
       "    }\n",
       "\n",
       "    .dataframe tbody tr th {\n",
       "        vertical-align: top;\n",
       "    }\n",
       "\n",
       "    .dataframe thead th {\n",
       "        text-align: right;\n",
       "    }\n",
       "</style>\n",
       "<table border=\"1\" class=\"dataframe\">\n",
       "  <thead>\n",
       "    <tr style=\"text-align: right;\">\n",
       "      <th></th>\n",
       "      <th>material</th>\n",
       "      <th>phase</th>\n",
       "      <th>temperature</th>\n",
       "      <th>property</th>\n",
       "      <th>value</th>\n",
       "      <th>units</th>\n",
       "      <th>source</th>\n",
       "    </tr>\n",
       "  </thead>\n",
       "  <tbody>\n",
       "    <tr>\n",
       "      <th>0</th>\n",
       "      <td>MeOH</td>\n",
       "      <td>liquid</td>\n",
       "      <td>25.0</td>\n",
       "      <td>dynamic viscosity</td>\n",
       "      <td>0.538000</td>\n",
       "      <td>mPa.s</td>\n",
       "      <td>NaN</td>\n",
       "    </tr>\n",
       "    <tr>\n",
       "      <th>1</th>\n",
       "      <td>H2O</td>\n",
       "      <td>liquid</td>\n",
       "      <td>25.0</td>\n",
       "      <td>dynamic viscosity</td>\n",
       "      <td>0.913000</td>\n",
       "      <td>mPa.s</td>\n",
       "      <td>NaN</td>\n",
       "    </tr>\n",
       "    <tr>\n",
       "      <th>2</th>\n",
       "      <td>Sulfolane</td>\n",
       "      <td>liquid</td>\n",
       "      <td>25.0</td>\n",
       "      <td>dynamic viscosity</td>\n",
       "      <td>10.070000</td>\n",
       "      <td>mPa.s</td>\n",
       "      <td>NaN</td>\n",
       "    </tr>\n",
       "    <tr>\n",
       "      <th>3</th>\n",
       "      <td>THF</td>\n",
       "      <td>liquid</td>\n",
       "      <td>25.0</td>\n",
       "      <td>dynamic viscosity</td>\n",
       "      <td>0.456000</td>\n",
       "      <td>mPa.s</td>\n",
       "      <td>NaN</td>\n",
       "    </tr>\n",
       "    <tr>\n",
       "      <th>4</th>\n",
       "      <td>THF</td>\n",
       "      <td>liquid</td>\n",
       "      <td>25.0</td>\n",
       "      <td>density</td>\n",
       "      <td>879.960032</td>\n",
       "      <td>kg/m3</td>\n",
       "      <td>NaN</td>\n",
       "    </tr>\n",
       "  </tbody>\n",
       "</table>\n",
       "</div>"
      ],
      "text/plain": [
       "    material   phase  temperature           property       value  units  \\\n",
       "0       MeOH  liquid         25.0  dynamic viscosity    0.538000  mPa.s   \n",
       "1        H2O  liquid         25.0  dynamic viscosity    0.913000  mPa.s   \n",
       "2  Sulfolane  liquid         25.0  dynamic viscosity   10.070000  mPa.s   \n",
       "3        THF  liquid         25.0  dynamic viscosity    0.456000  mPa.s   \n",
       "4        THF  liquid         25.0            density  879.960032  kg/m3   \n",
       "\n",
       "   source  \n",
       "0     NaN  \n",
       "1     NaN  \n",
       "2     NaN  \n",
       "3     NaN  \n",
       "4     NaN  "
      ]
     },
     "execution_count": 33,
     "metadata": {},
     "output_type": "execute_result"
    }
   ],
   "source": [
    "df_materials.head()"
   ]
  },
  {
   "cell_type": "code",
   "execution_count": 14,
   "id": "a5988947",
   "metadata": {},
   "outputs": [
    {
     "data": {
      "application/vnd.microsoft.datawrangler.viewer.v0+json": {
       "columns": [
        {
         "name": "index",
         "rawType": "object",
         "type": "string"
        },
        {
         "name": "('dynamic viscosity', 'mPa.s')",
         "rawType": "float64",
         "type": "float"
        },
        {
         "name": "('density', 'kg/m3')",
         "rawType": "float64",
         "type": "float"
        },
        {
         "name": "('surface tension', 'N/m')",
         "rawType": "float64",
         "type": "float"
        },
        {
         "name": "('volume', 'L')",
         "rawType": "int64",
         "type": "integer"
        },
        {
         "name": "('mass', 'kg')",
         "rawType": "float64",
         "type": "float"
        },
        {
         "name": "('mass_fraction', '')",
         "rawType": "float64",
         "type": "float"
        }
       ],
       "ref": "c3d4aca9-f873-401a-b2cf-d9ad9c20d5b3",
       "rows": [
        [
         "MeOH_1",
         "0.538",
         "789.6074669",
         "0.022221584",
         "100",
         "78.96074669",
         "0.28366387233995993"
        ],
        [
         "H2O_2",
         "0.913",
         "996.9975213",
         "0.072118285",
         "200",
         "199.39950426",
         "0.7163361276600402"
        ],
        [
         "mixture",
         "0.8066260478725151",
         "938.1684553841012",
         "0.057964393577350865",
         "300",
         "278.36025094999997",
         "1.0"
        ]
       ],
       "shape": {
        "columns": 6,
        "rows": 3
       }
      },
      "text/html": [
       "<div>\n",
       "<style scoped>\n",
       "    .dataframe tbody tr th:only-of-type {\n",
       "        vertical-align: middle;\n",
       "    }\n",
       "\n",
       "    .dataframe tbody tr th {\n",
       "        vertical-align: top;\n",
       "    }\n",
       "\n",
       "    .dataframe thead tr th {\n",
       "        text-align: left;\n",
       "    }\n",
       "</style>\n",
       "<table border=\"1\" class=\"dataframe\">\n",
       "  <thead>\n",
       "    <tr>\n",
       "      <th>property</th>\n",
       "      <th>dynamic viscosity</th>\n",
       "      <th>density</th>\n",
       "      <th>surface tension</th>\n",
       "      <th>volume</th>\n",
       "      <th>mass</th>\n",
       "      <th>mass_fraction</th>\n",
       "    </tr>\n",
       "    <tr>\n",
       "      <th>units</th>\n",
       "      <th>mPa.s</th>\n",
       "      <th>kg/m3</th>\n",
       "      <th>N/m</th>\n",
       "      <th>L</th>\n",
       "      <th>kg</th>\n",
       "      <th></th>\n",
       "    </tr>\n",
       "  </thead>\n",
       "  <tbody>\n",
       "    <tr>\n",
       "      <th>MeOH_1</th>\n",
       "      <td>0.538000</td>\n",
       "      <td>789.607467</td>\n",
       "      <td>0.022222</td>\n",
       "      <td>100</td>\n",
       "      <td>78.960747</td>\n",
       "      <td>0.283664</td>\n",
       "    </tr>\n",
       "    <tr>\n",
       "      <th>H2O_2</th>\n",
       "      <td>0.913000</td>\n",
       "      <td>996.997521</td>\n",
       "      <td>0.072118</td>\n",
       "      <td>200</td>\n",
       "      <td>199.399504</td>\n",
       "      <td>0.716336</td>\n",
       "    </tr>\n",
       "    <tr>\n",
       "      <th>mixture</th>\n",
       "      <td>0.806626</td>\n",
       "      <td>938.168455</td>\n",
       "      <td>0.057964</td>\n",
       "      <td>300</td>\n",
       "      <td>278.360251</td>\n",
       "      <td>1.000000</td>\n",
       "    </tr>\n",
       "  </tbody>\n",
       "</table>\n",
       "</div>"
      ],
      "text/plain": [
       "property dynamic viscosity     density surface tension volume        mass  \\\n",
       "units                mPa.s       kg/m3             N/m      L          kg   \n",
       "MeOH_1            0.538000  789.607467        0.022222    100   78.960747   \n",
       "H2O_2             0.913000  996.997521        0.072118    200  199.399504   \n",
       "mixture           0.806626  938.168455        0.057964    300  278.360251   \n",
       "\n",
       "property mass_fraction  \n",
       "units                   \n",
       "MeOH_1        0.283664  \n",
       "H2O_2         0.716336  \n",
       "mixture       1.000000  "
      ]
     },
     "execution_count": 14,
     "metadata": {},
     "output_type": "execute_result"
    }
   ],
   "source": [
    "temp=25.0\n",
    "selections = ['MeOH', 'H2O']\n",
    "volumes = [100, 200]\n",
    "all_liq_props = pd.DataFrame()\n",
    "\n",
    "for n, liq in enumerate(selections):\n",
    "    liq_props = df_materials[(df_materials[\"material\"]==liq)&\n",
    "                                   (df_materials[\"temperature\"]==temp)].copy()\n",
    "    liq_props['name'] = f\"{liq}_{n+1}\"\n",
    "    \n",
    "    liq_props = liq_props.pivot(index=['name'],columns=['property', 'units'], values='value').copy()\n",
    "    liq_props[('volume', 'L')] = volumes[n]\n",
    "    liq_props[('mass', 'kg')] = (liq_props[('density', 'kg/m3')]/1e3) * liq_props[('volume', 'L')]\n",
    "    all_liq_props = pd.concat([all_liq_props, liq_props], axis=0)\n",
    "\n",
    "# create dataframe of mass-weighted average properties\n",
    "liq_props_avg = liq_props.copy()\n",
    "total_volume = all_liq_props[('volume', 'L')].sum()\n",
    "total_mass = all_liq_props[('mass', 'kg')].sum()\n",
    "# liq_props_avg[('density', 'kg/m3')] = liq_props_avg[('mass', 'kg')] / (liq_props_avg[('volume', 'L')]/1e3)\n",
    "\n",
    "all_liq_props['mass_fraction'] = all_liq_props[('mass', 'kg')] / total_mass\n",
    "\n",
    "avg = all_liq_props.mul(all_liq_props[('mass_fraction')], axis=0).sum().to_frame().T\n",
    "avg.index = ['mixture']\n",
    "avg[('volume','L')] = total_volume\n",
    "avg[('mass','kg')] = total_mass\n",
    "avg[('mass_fraction')] = all_liq_props['mass_fraction'].sum()\n",
    "\n",
    "all_liq_props = pd.concat([all_liq_props, avg], axis=0)\n",
    "all_liq_props"
   ]
  },
  {
   "cell_type": "code",
   "execution_count": 8,
   "id": "3ca15d36",
   "metadata": {},
   "outputs": [],
   "source": [
    "sm = {('name', ''): 'SM1',\n",
    "                                          ('dynamic viscosity', 'mPa.s'): 1.0,\n",
    "                                          ('density', 'kg/m3'): 10000.0,\n",
    "                                          ('kinematic viscosity', 'm2/s'): 1.0e-6,\n",
    "                                          ('surface tension', 'N/m'): 0.0728,\n",
    "                                          ('volume', 'L'): 1.0,\n",
    "                                          ('mass', 'kg'): 0.1\n",
    "                                          }"
   ]
  },
  {
   "cell_type": "code",
   "execution_count": 15,
   "id": "48a8861f",
   "metadata": {},
   "outputs": [],
   "source": [
    "sm = pd.DataFrame(sm, index=[0]).set_index(('name', ''))"
   ]
  },
  {
   "cell_type": "code",
   "execution_count": 16,
   "id": "398bcd08",
   "metadata": {},
   "outputs": [
    {
     "data": {
      "application/vnd.microsoft.datawrangler.viewer.v0+json": {
       "columns": [
        {
         "name": "index",
         "rawType": "object",
         "type": "string"
        },
        {
         "name": "('dynamic viscosity', 'mPa.s')",
         "rawType": "float64",
         "type": "float"
        },
        {
         "name": "('density', 'kg/m3')",
         "rawType": "float64",
         "type": "float"
        },
        {
         "name": "('kinematic viscosity', 'm2/s')",
         "rawType": "float64",
         "type": "float"
        },
        {
         "name": "('surface tension', 'N/m')",
         "rawType": "float64",
         "type": "float"
        },
        {
         "name": "('volume', 'L')",
         "rawType": "float64",
         "type": "float"
        },
        {
         "name": "('mass', 'kg')",
         "rawType": "float64",
         "type": "float"
        },
        {
         "name": "('mass_fraction', '')",
         "rawType": "float64",
         "type": "float"
        }
       ],
       "ref": "3081ca29-5e9f-4f3b-b517-f61060a17081",
       "rows": [
        [
         "SM1",
         "1.0",
         "10000.0",
         "1e-06",
         "0.0728",
         "1.0",
         "0.1",
         null
        ],
        [
         "MeOH_1",
         "0.538",
         "789.6074669",
         null,
         "0.022221584",
         "100.0",
         "78.96074669",
         "0.28366387233995993"
        ],
        [
         "H2O_2",
         "0.913",
         "996.9975213",
         null,
         "0.072118285",
         "200.0",
         "199.39950426",
         "0.7163361276600402"
        ],
        [
         "mixture",
         "0.8066260478725151",
         "938.1684553841012",
         null,
         "0.057964393577350865",
         "300.0",
         "278.36025094999997",
         "1.0"
        ]
       ],
       "shape": {
        "columns": 7,
        "rows": 4
       }
      },
      "text/html": [
       "<div>\n",
       "<style scoped>\n",
       "    .dataframe tbody tr th:only-of-type {\n",
       "        vertical-align: middle;\n",
       "    }\n",
       "\n",
       "    .dataframe tbody tr th {\n",
       "        vertical-align: top;\n",
       "    }\n",
       "\n",
       "    .dataframe thead tr th {\n",
       "        text-align: left;\n",
       "    }\n",
       "</style>\n",
       "<table border=\"1\" class=\"dataframe\">\n",
       "  <thead>\n",
       "    <tr>\n",
       "      <th></th>\n",
       "      <th>dynamic viscosity</th>\n",
       "      <th>density</th>\n",
       "      <th>kinematic viscosity</th>\n",
       "      <th>surface tension</th>\n",
       "      <th>volume</th>\n",
       "      <th>mass</th>\n",
       "      <th>mass_fraction</th>\n",
       "    </tr>\n",
       "    <tr>\n",
       "      <th></th>\n",
       "      <th>mPa.s</th>\n",
       "      <th>kg/m3</th>\n",
       "      <th>m2/s</th>\n",
       "      <th>N/m</th>\n",
       "      <th>L</th>\n",
       "      <th>kg</th>\n",
       "      <th></th>\n",
       "    </tr>\n",
       "  </thead>\n",
       "  <tbody>\n",
       "    <tr>\n",
       "      <th>SM1</th>\n",
       "      <td>1.000000</td>\n",
       "      <td>10000.000000</td>\n",
       "      <td>0.000001</td>\n",
       "      <td>0.072800</td>\n",
       "      <td>1.0</td>\n",
       "      <td>0.100000</td>\n",
       "      <td>NaN</td>\n",
       "    </tr>\n",
       "    <tr>\n",
       "      <th>MeOH_1</th>\n",
       "      <td>0.538000</td>\n",
       "      <td>789.607467</td>\n",
       "      <td>NaN</td>\n",
       "      <td>0.022222</td>\n",
       "      <td>100.0</td>\n",
       "      <td>78.960747</td>\n",
       "      <td>0.283664</td>\n",
       "    </tr>\n",
       "    <tr>\n",
       "      <th>H2O_2</th>\n",
       "      <td>0.913000</td>\n",
       "      <td>996.997521</td>\n",
       "      <td>NaN</td>\n",
       "      <td>0.072118</td>\n",
       "      <td>200.0</td>\n",
       "      <td>199.399504</td>\n",
       "      <td>0.716336</td>\n",
       "    </tr>\n",
       "    <tr>\n",
       "      <th>mixture</th>\n",
       "      <td>0.806626</td>\n",
       "      <td>938.168455</td>\n",
       "      <td>NaN</td>\n",
       "      <td>0.057964</td>\n",
       "      <td>300.0</td>\n",
       "      <td>278.360251</td>\n",
       "      <td>1.000000</td>\n",
       "    </tr>\n",
       "  </tbody>\n",
       "</table>\n",
       "</div>"
      ],
      "text/plain": [
       "        dynamic viscosity       density kinematic viscosity surface tension  \\\n",
       "                    mPa.s         kg/m3                m2/s             N/m   \n",
       "SM1              1.000000  10000.000000            0.000001        0.072800   \n",
       "MeOH_1           0.538000    789.607467                 NaN        0.022222   \n",
       "H2O_2            0.913000    996.997521                 NaN        0.072118   \n",
       "mixture          0.806626    938.168455                 NaN        0.057964   \n",
       "\n",
       "        volume        mass mass_fraction  \n",
       "             L          kg                \n",
       "SM1        1.0    0.100000           NaN  \n",
       "MeOH_1   100.0   78.960747      0.283664  \n",
       "H2O_2    200.0  199.399504      0.716336  \n",
       "mixture  300.0  278.360251      1.000000  "
      ]
     },
     "execution_count": 16,
     "metadata": {},
     "output_type": "execute_result"
    }
   ],
   "source": [
    "pd.concat([sm, all_liq_props], axis=0)"
   ]
  },
  {
   "cell_type": "code",
   "execution_count": null,
   "id": "018ae3bc",
   "metadata": {},
   "outputs": [],
   "source": []
  }
 ],
 "metadata": {
  "kernelspec": {
   "display_name": "web_apps",
   "language": "python",
   "name": "python3"
  },
  "language_info": {
   "codemirror_mode": {
    "name": "ipython",
    "version": 3
   },
   "file_extension": ".py",
   "mimetype": "text/x-python",
   "name": "python",
   "nbconvert_exporter": "python",
   "pygments_lexer": "ipython3",
   "version": "3.13.5"
  }
 },
 "nbformat": 4,
 "nbformat_minor": 5
}
